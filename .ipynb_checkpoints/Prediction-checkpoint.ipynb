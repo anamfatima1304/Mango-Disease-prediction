{
 "cells": [
  {
   "cell_type": "code",
   "execution_count": null,
   "id": "0257a433",
   "metadata": {},
   "outputs": [],
   "source": [
    "import pickle\n",
    "model=pickle.load(open('model.pkl','rb'))"
   ]
  },
  {
   "cell_type": "code",
   "execution_count": null,
   "id": "abc79390",
   "metadata": {},
   "outputs": [],
   "source": [
    "class_names = ['Anthracnose',\n",
    " 'Bacterial Canker',\n",
    " 'Cutting Weevil',\n",
    " 'Die Back',\n",
    " 'Gall Midge',\n",
    " 'Healthy',\n",
    " 'Powdery Mildew',\n",
    " 'Sooty Mould']"
   ]
  },
  {
   "cell_type": "code",
   "execution_count": null,
   "id": "1bf6ef94",
   "metadata": {},
   "outputs": [],
   "source": [
    "def predict(model, image):\n",
    "    img_array = tf.keras.preprocessing.image.img_to_array(image.numpy())\n",
    "    img_array = tf.expand_dims(img_array, 0) # Create a batch\n",
    "\n",
    "    predictions = model.predict(img_array)\n",
    "\n",
    "    predicted_class = class_names[np.argmax(predictions[0])]\n",
    "    confidence = round(100 * (np.max(predictions[0])), 2)\n",
    "    return predicted_class, confidence"
   ]
  },
  {
   "cell_type": "code",
   "execution_count": null,
   "id": "b0e60994",
   "metadata": {},
   "outputs": [],
   "source": [
    "image = input(\"Enter the path of the file:\\n\")\n",
    "plt.imshow(images[i].numpy().astype(\"uint8\"))\n",
    "predicted_class, confidence = predict(model, images[i].numpy())\n",
    "\n",
    "plt.title(f\"Predicted: {predicted_class}.\\n Confidence: {confidence}%\")\n",
    "plt.axis(\"off\")"
   ]
  },
  {
   "cell_type": "code",
   "execution_count": null,
   "id": "b66e5443",
   "metadata": {},
   "outputs": [],
   "source": [
    "# ./Test_Images/Anthracnose_1.jpg"
   ]
  }
 ],
 "metadata": {
  "kernelspec": {
   "display_name": "Python 3 (ipykernel)",
   "language": "python",
   "name": "python3"
  },
  "language_info": {
   "codemirror_mode": {
    "name": "ipython",
    "version": 3
   },
   "file_extension": ".py",
   "mimetype": "text/x-python",
   "name": "python",
   "nbconvert_exporter": "python",
   "pygments_lexer": "ipython3",
   "version": "3.10.7"
  }
 },
 "nbformat": 4,
 "nbformat_minor": 5
}
